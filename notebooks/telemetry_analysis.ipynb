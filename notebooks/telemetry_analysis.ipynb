{
 "cells": [
  {
   "cell_type": "code",
   "execution_count": null,
   "id": "c2ece7c7",
   "metadata": {},
   "outputs": [
    {
     "data": {
      "text/plain": [
       "'/Users/alicejones/Desktop/f1-telemetry-analysis/notebooks'"
      ]
     },
     "execution_count": 8,
     "metadata": {},
     "output_type": "execute_result"
    }
   ],
   "source": [
    "import os\n",
    "import fastf1 as ff1\n",
    "from fastf1 import plotting\n",
    "\n",
    "# 1. Detect project root (one level above notebooks/)\n",
    "project_root = os.path.dirname(os.getcwd())\n",
    "cache_folder = os.path.join(project_root, \"cache\")\n",
    "\n",
    "# 2. Create cache folder if it doesn't exist\n",
    "if not os.path.exists(cache_folder):\n",
    "    os.makedirs(cache_folder)\n",
    "    print(f\"Created cache folder at {cache_folder}\")\n",
    "else:\n",
    "    print(f\"Cache folder exists at {cache_folder}\")\n",
    "\n",
    "# 3. Enable FastF1 cache\n",
    "ff1.Cache.enable_cache(cache_folder)\n",
    "plotting.setup_mpl()"
   ]
  },
  {
   "cell_type": "code",
   "execution_count": 7,
   "id": "462d8fa8",
   "metadata": {},
   "outputs": [
    {
     "ename": "NotADirectoryError",
     "evalue": "Cache directory does not exist! Please check for typos or create it first.",
     "output_type": "error",
     "traceback": [
      "\u001b[0;31m---------------------------------------------------------------------------\u001b[0m",
      "\u001b[0;31mNotADirectoryError\u001b[0m                        Traceback (most recent call last)",
      "Cell \u001b[0;32mIn[7], line 1\u001b[0m\n\u001b[0;32m----> 1\u001b[0m ff1\u001b[38;5;241m.\u001b[39mCache\u001b[38;5;241m.\u001b[39menable_cache(\u001b[38;5;124m\"\u001b[39m\u001b[38;5;124mcache\u001b[39m\u001b[38;5;124m\"\u001b[39m)\n\u001b[1;32m      2\u001b[0m plotting\u001b[38;5;241m.\u001b[39msetup_mpl()\n",
      "File \u001b[0;32m/Applications/anaconda3/lib/python3.11/site-packages/fastf1/req.py:262\u001b[0m, in \u001b[0;36mCache.enable_cache\u001b[0;34m(cls, cache_dir, ignore_version, force_renew, use_requests_cache)\u001b[0m\n\u001b[1;32m    259\u001b[0m cache_dir \u001b[38;5;241m=\u001b[39m os\u001b[38;5;241m.\u001b[39mpath\u001b[38;5;241m.\u001b[39mexpanduser(cache_dir)\n\u001b[1;32m    261\u001b[0m \u001b[38;5;28;01mif\u001b[39;00m \u001b[38;5;129;01mnot\u001b[39;00m os\u001b[38;5;241m.\u001b[39mpath\u001b[38;5;241m.\u001b[39mexists(cache_dir):\n\u001b[0;32m--> 262\u001b[0m     \u001b[38;5;28;01mraise\u001b[39;00m \u001b[38;5;167;01mNotADirectoryError\u001b[39;00m(\u001b[38;5;124m\"\u001b[39m\u001b[38;5;124mCache directory does not exist! Please \u001b[39m\u001b[38;5;124m\"\u001b[39m\n\u001b[1;32m    263\u001b[0m                              \u001b[38;5;124m\"\u001b[39m\u001b[38;5;124mcheck for typos or create it first.\u001b[39m\u001b[38;5;124m\"\u001b[39m)\n\u001b[1;32m    264\u001b[0m \u001b[38;5;28mcls\u001b[39m\u001b[38;5;241m.\u001b[39m_CACHE_DIR \u001b[38;5;241m=\u001b[39m cache_dir\n\u001b[1;32m    265\u001b[0m \u001b[38;5;28mcls\u001b[39m\u001b[38;5;241m.\u001b[39m_IGNORE_VERSION \u001b[38;5;241m=\u001b[39m ignore_version\n",
      "\u001b[0;31mNotADirectoryError\u001b[0m: Cache directory does not exist! Please check for typos or create it first."
     ]
    }
   ],
   "source": [
    "ff1.Cache.enable_cache(\"cache\")\n",
    "plotting.setup_mpl()"
   ]
  }
 ],
 "metadata": {
  "kernelspec": {
   "display_name": "base",
   "language": "python",
   "name": "python3"
  },
  "language_info": {
   "codemirror_mode": {
    "name": "ipython",
    "version": 3
   },
   "file_extension": ".py",
   "mimetype": "text/x-python",
   "name": "python",
   "nbconvert_exporter": "python",
   "pygments_lexer": "ipython3",
   "version": "3.11.4"
  }
 },
 "nbformat": 4,
 "nbformat_minor": 5
}
